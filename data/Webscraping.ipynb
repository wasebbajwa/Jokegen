{
 "cells": [
  {
   "cell_type": "code",
   "execution_count": 1,
   "id": "1937db1b",
   "metadata": {},
   "outputs": [],
   "source": [
    "from selenium import webdriver\n",
    "from selenium.webdriver.common.keys import Keys\n",
    "import pandas as pd"
   ]
  },
  {
   "cell_type": "code",
   "execution_count": 2,
   "id": "6ebbc022",
   "metadata": {},
   "outputs": [],
   "source": [
    "from selenium import webdriver\n",
    "from selenium.webdriver.chrome.service import Service\n",
    "from webdriver_manager.chrome import ChromeDriverManager\n",
    "from selenium.webdriver.common.by import By\n",
    "import argparse,sys,os\n",
    "from time import sleep"
   ]
  },
  {
   "cell_type": "code",
   "execution_count": 3,
   "id": "543ef1ee",
   "metadata": {},
   "outputs": [],
   "source": [
    "\n",
    "os.chdir('C:/Users/wbajw/msds 498')"
   ]
  },
  {
   "cell_type": "code",
   "execution_count": 56,
   "id": "8f7895e3",
   "metadata": {},
   "outputs": [],
   "source": [
    "parser = argparse.ArgumentParser(\n",
    "    description='Webscraping ScrapsFromTheLost to get access to comedy transcripts')\n",
    "parser.add_argument('--website', default=\"https://scrapsfromtheloft.com/stand-up-comedy-scripts/\",\n",
    "                    help=\"The website that contains links to all of the individual transcripts\")\n",
    "parser.add_argument('--tag', default=\"h3\",\n",
    "                    help=\"Tag of whichever part of the site you want to webscrape\")\n",
    "sys.argv = ['-f']\n",
    "args = parser.parse_args()"
   ]
  },
  {
   "cell_type": "code",
   "execution_count": 4,
   "id": "bc9eed03",
   "metadata": {},
   "outputs": [
    {
     "name": "stderr",
     "output_type": "stream",
     "text": [
      "\n",
      "\n",
      "====== WebDriver manager ======\n",
      "Current google-chrome version is 97.0.4692\n",
      "Get LATEST chromedriver version for 97.0.4692 google-chrome\n",
      "Trying to download new driver from https://chromedriver.storage.googleapis.com/97.0.4692.71/chromedriver_win32.zip\n",
      "Driver has been saved in cache [C:\\Users\\wbajw\\.wdm\\drivers\\chromedriver\\win32\\97.0.4692.71]\n"
     ]
    }
   ],
   "source": [
    "driver = webdriver.Chrome(service=Service(ChromeDriverManager().install()))\n",
    "driver.get(\"https://scrapsfromtheloft.com/stand-up-comedy-scripts/\")\n",
    "Comedies= driver.find_elements(By.TAG_NAME,\"a\")\n",
    "comedies_list = []\n",
    "for s in Comedies:\n",
    "    comedies_list.append(s.get_attribute('href'))\n",
    "websites = list(comedies_list[20:])\n",
    "driver.quit()\n"
   ]
  },
  {
   "cell_type": "code",
   "execution_count": null,
   "id": "f13a6ccd",
   "metadata": {},
   "outputs": [],
   "source": [
    "websites=websites[50:438]\n",
    "#websites"
   ]
  },
  {
   "cell_type": "code",
   "execution_count": 7,
   "id": "359c5a27",
   "metadata": {},
   "outputs": [],
   "source": [
    "### Creating dataframe\n",
    "column_names = [\"Comedy Title\",\"Transcript\"]\n",
    "df = pd.DataFrame(columns = column_names)\n"
   ]
  },
  {
   "cell_type": "code",
   "execution_count": null,
   "id": "8402fc73",
   "metadata": {},
   "outputs": [],
   "source": [
    "### Webscraping for the actual transcripts\n",
    "TranscriptCorpus=[]\n",
    "RunCount=0\n",
    "for website in websites:\n",
    "    if RunCount==0:\n",
    "        driver = webdriver.Chrome(service=Service(ChromeDriverManager().install()))\n",
    "        RunCount+=1\n",
    "    driver.get(website)\n",
    "    Transcripts= driver.find_elements(By.TAG_NAME,\"p\")\n",
    "    Transcript = []\n",
    "    \n",
    "    for i in range(len(Transcripts)):\n",
    "        Transcript.append(Transcripts[i].text)\n",
    "    \n",
    "        if i==len(Transcripts)-1:\n",
    "            JoinedScript=' '.join(Transcript)\n",
    "            TranscriptCorpus.append(JoinedScript)\n",
    "            print('waiting')\n",
    "            sleep(5)"
   ]
  },
  {
   "cell_type": "code",
   "execution_count": 28,
   "id": "56620392",
   "metadata": {},
   "outputs": [],
   "source": [
    "\n",
    "textfile = open(\"a_file.txt\", \"w\",encoding=\"utf-8\")\n",
    "for element in TranscriptCorpus:\n",
    "    textfile.write(element + \"\\n\")\n",
    "textfile.close()"
   ]
  },
  {
   "cell_type": "code",
   "execution_count": 9,
   "id": "c84872e0",
   "metadata": {},
   "outputs": [
    {
     "data": {
      "text/plain": [
       "388"
      ]
     },
     "execution_count": 9,
     "metadata": {},
     "output_type": "execute_result"
    }
   ],
   "source": [
    "len(TranscriptCorpus)"
   ]
  },
  {
   "cell_type": "code",
   "execution_count": 10,
   "id": "337a2376",
   "metadata": {},
   "outputs": [
    {
     "data": {
      "text/plain": [
       "388"
      ]
     },
     "execution_count": 10,
     "metadata": {},
     "output_type": "execute_result"
    }
   ],
   "source": [
    "len(websites)"
   ]
  },
  {
   "cell_type": "code",
   "execution_count": 11,
   "id": "c323a4ee",
   "metadata": {},
   "outputs": [],
   "source": [
    "data_tuples_zipped=list(zip(websites,TranscriptCorpus))"
   ]
  },
  {
   "cell_type": "code",
   "execution_count": 19,
   "id": "1a12deaa",
   "metadata": {},
   "outputs": [],
   "source": [
    "df.to_excel(\"output.xlsx\") "
   ]
  },
  {
   "cell_type": "code",
   "execution_count": null,
   "id": "bdfd0097",
   "metadata": {},
   "outputs": [],
   "source": []
  }
 ],
 "metadata": {
  "kernelspec": {
   "display_name": "Python 3 (ipykernel)",
   "language": "python",
   "name": "python3"
  },
  "language_info": {
   "codemirror_mode": {
    "name": "ipython",
    "version": 3
   },
   "file_extension": ".py",
   "mimetype": "text/x-python",
   "name": "python",
   "nbconvert_exporter": "python",
   "pygments_lexer": "ipython3",
   "version": "3.9.7"
  }
 },
 "nbformat": 4,
 "nbformat_minor": 5
}
